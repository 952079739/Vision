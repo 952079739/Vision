{
 "cells": [
  {
   "cell_type": "code",
   "execution_count": 26,
   "metadata": {
    "scrolled": true
   },
   "outputs": [],
   "source": [
    "import re\n",
    "import pprint\n",
    "from selenium import webdriver\n",
    "import csv\n",
    "\n",
    "\n",
    "browser = webdriver.Chrome()\n",
    "browser.get('https://www.zhipin.com/c101270100/e_108/?query=c%2B%2B&ka=sel-exp-108')\n",
    "html = browser.page_source\n",
    "\n",
    "pattern_positions = re.compile('<span.*?job-name.*?>.*?data-index.*?>(.*?)</a>', re.S)\n",
    "pattern_areas = re.compile('<span.*?job-area\">(.*?)</span>', re.S)\n",
    "pattern_treatment = re.compile('<div.*?info-desc\">(.*?)</div>', re.S)\n",
    "pattern_company_name = re.compile('<h3.*?name\"><a.*?_blank\">(.*?)</a>', re.S)\n",
    "\n",
    "job_areas = re.findall(pattern_areas, html)\n",
    "positions = re.findall(pattern_positions, html)\n",
    "treatments = re.findall(pattern_treatment, html)\n",
    "company_names = re.findall(pattern_company_name, html)\n",
    "job_list = []\n",
    "for i in range(len(positions)):\n",
    "    job_list.append({'position_name': positions[i],\n",
    "                    'position_type': 'c++',\n",
    "                    'position_treatment': treatments[i],\n",
    "                    'position_place': job_areas[i],\n",
    "                    'company_name': company_names[i]})\n",
    "headers = ['position_name', 'position_type', 'position_treatment', 'position_place', 'company_name']\n",
    "with open('job.csv', 'a', newline='', encoding='utf-8') as f:\n",
    "    writer = csv.DictWriter(f,fieldnames=headers)\n",
    "    writer.writerows(job_list)\n",
    "    \n",
    "\n",
    "\n"
   ]
  },
  {
   "cell_type": "code",
   "execution_count": null,
   "metadata": {},
   "outputs": [],
   "source": []
  },
  {
   "cell_type": "code",
   "execution_count": null,
   "metadata": {},
   "outputs": [],
   "source": []
  },
  {
   "cell_type": "code",
   "execution_count": null,
   "metadata": {},
   "outputs": [],
   "source": []
  }
 ],
 "metadata": {
  "kernelspec": {
   "display_name": "Python 3",
   "language": "python",
   "name": "python3"
  },
  "language_info": {
   "codemirror_mode": {
    "name": "ipython",
    "version": 3
   },
   "file_extension": ".py",
   "mimetype": "text/x-python",
   "name": "python",
   "nbconvert_exporter": "python",
   "pygments_lexer": "ipython3",
   "version": "3.7.3"
  }
 },
 "nbformat": 4,
 "nbformat_minor": 4
}
